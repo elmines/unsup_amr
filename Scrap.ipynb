{
 "cells": [
  {
   "cell_type": "code",
   "execution_count": 1,
   "metadata": {},
   "outputs": [],
   "source": [
    "import torch\n",
    "from unsupamr.next_token import NextTokens, NextTokensFactory\n",
    "from unsupamr.utils import VocabExt\n",
    "import json"
   ]
  },
  {
   "cell_type": "code",
   "execution_count": 2,
   "metadata": {},
   "outputs": [],
   "source": [
    "vocab_path = \"/home/ethanlmines/vocab.json\"\n",
    "with open(vocab_path, 'r') as r:\n",
    "    vocab_ext = VocabExt.from_json(json.load(r))"
   ]
  },
  {
   "cell_type": "code",
   "execution_count": 3,
   "metadata": {},
   "outputs": [],
   "source": [
    "eos_id = vocab_ext.eos_id\n",
    "pad_id = vocab_ext.pad_id\n",
    "concept_a = 259\n",
    "concept_b = 260\n",
    "concept_c = 261\n",
    "tell_01 = 257985\n",
    "wash_01 = 258604\n",
    "stop = 258865\n",
    "arg0 = 250112\n",
    "arg1 = arg0 + 2\n",
    "arg2 = arg1 + 2\n",
    "\n",
    "r0 = 258884\n",
    "r1 = r0 + 1\n",
    "r2 = r0 + 2\n",
    "r3 = r0 + 3\n",
    "r4 = r0 + 4"
   ]
  },
  {
   "cell_type": "code",
   "execution_count": 4,
   "metadata": {},
   "outputs": [],
   "source": [
    "# Desired: <R0> tell-01 :ARG0 <R1>       you :ARG1 <R2> wash-01 :ARG2 <R3>         i <stop> <R2> :ARG0 <R3> :ARG1 <R4>       dog <stop> EOS\n",
    "# Desired: <R0> tell-01 :ARG0 <R1> concept_a :ARG1 <R2> wash-01 :ARG2 <R3> concept_b <stop> <R2> :ARG0 <R3> :ARG1 <R4> concept_c <stop> EOS\n",
    "desired = [r0, tell_01, arg0, r1, concept_a, arg1, r2, wash_01, arg2, r3, concept_b, stop,   r2, arg0, r3,  arg1, r4, concept_c, stop, eos_id]"
   ]
  },
  {
   "cell_type": "code",
   "execution_count": 5,
   "metadata": {},
   "outputs": [],
   "source": [
    "nt_fact = NextTokensFactory(vocab_ext)"
   ]
  },
  {
   "cell_type": "code",
   "execution_count": 6,
   "metadata": {},
   "outputs": [
    {
     "name": "stdout",
     "output_type": "stream",
     "text": [
      "i=0, tok_id=258884\n",
      "i=1, tok_id=257985\n",
      "i=2, tok_id=250112\n"
     ]
    },
    {
     "ename": "AttributeError",
     "evalue": "'NextTokens' object has no attribute 'mapper'",
     "output_type": "error",
     "traceback": [
      "\u001b[0;31m---------------------------------------------------------------------------\u001b[0m",
      "\u001b[0;31mAttributeError\u001b[0m                            Traceback (most recent call last)",
      "Cell \u001b[0;32mIn[6], line 6\u001b[0m\n\u001b[1;32m      4\u001b[0m \u001b[38;5;28mprint\u001b[39m(\u001b[38;5;124mf\u001b[39m\u001b[38;5;124m\"\u001b[39m\u001b[38;5;124mi=\u001b[39m\u001b[38;5;132;01m{\u001b[39;00mi\u001b[38;5;132;01m}\u001b[39;00m\u001b[38;5;124m, tok_id=\u001b[39m\u001b[38;5;132;01m{\u001b[39;00mtok_id\u001b[38;5;132;01m}\u001b[39;00m\u001b[38;5;124m\"\u001b[39m)\n\u001b[1;32m      5\u001b[0m \u001b[38;5;28;01massert\u001b[39;00m mask[tok_id] \u001b[38;5;241m==\u001b[39m \u001b[38;5;241m0\u001b[39m\n\u001b[0;32m----> 6\u001b[0m mask \u001b[38;5;241m=\u001b[39m \u001b[43mnt\u001b[49m\u001b[38;5;241;43m.\u001b[39;49m\u001b[43mnextTokens\u001b[49m\u001b[43m(\u001b[49m\u001b[43mtok_id\u001b[49m\u001b[43m)\u001b[49m\n",
      "File \u001b[0;32m/blue/bonniejdorr/ethanlmines/repos/unsup_amr/unsupamr/next_token.py:100\u001b[0m, in \u001b[0;36mNextTokens.nextTokens\u001b[0;34m(self, token_id)\u001b[0m\n\u001b[1;32m     98\u001b[0m \u001b[38;5;28;01mif\u001b[39;00m token_id \u001b[38;5;129;01mis\u001b[39;00m \u001b[38;5;28;01mNone\u001b[39;00m \u001b[38;5;129;01mand\u001b[39;00m \u001b[38;5;28mself\u001b[39m\u001b[38;5;241m.\u001b[39mcontext:\n\u001b[1;32m     99\u001b[0m     \u001b[38;5;28;01mreturn\u001b[39;00m \u001b[38;5;28mself\u001b[39m\u001b[38;5;241m.\u001b[39m__last_mask\n\u001b[0;32m--> 100\u001b[0m \u001b[38;5;28mself\u001b[39m\u001b[38;5;241m.\u001b[39m__last_mask \u001b[38;5;241m=\u001b[39m \u001b[38;5;28;43mself\u001b[39;49m\u001b[38;5;241;43m.\u001b[39;49m\u001b[43m__nextTokens\u001b[49m\u001b[43m(\u001b[49m\u001b[43mtoken_id\u001b[49m\u001b[43m)\u001b[49m\n\u001b[1;32m    101\u001b[0m \u001b[38;5;28;01mreturn\u001b[39;00m \u001b[38;5;28mself\u001b[39m\u001b[38;5;241m.\u001b[39m__last_mask\n",
      "File \u001b[0;32m/blue/bonniejdorr/ethanlmines/repos/unsup_amr/unsupamr/next_token.py:177\u001b[0m, in \u001b[0;36mNextTokens.__nextTokens\u001b[0;34m(self, token_id)\u001b[0m\n\u001b[1;32m    175\u001b[0m \u001b[38;5;28mself\u001b[39m\u001b[38;5;241m.\u001b[39mverb_arguments[\u001b[38;5;28mself\u001b[39m\u001b[38;5;241m.\u001b[39mcurrent_verb]\u001b[38;5;241m.\u001b[39madd(token_id)\n\u001b[1;32m    176\u001b[0m \u001b[38;5;66;03m#If the input is ARG, next token has to be already seen Rn or next Rn\u001b[39;00m\n\u001b[0;32m--> 177\u001b[0m mask[\u001b[38;5;28;43mself\u001b[39;49m\u001b[38;5;241;43m.\u001b[39;49m\u001b[43mmapper\u001b[49m[\u001b[38;5;28mself\u001b[39m\u001b[38;5;241m.\u001b[39mcurrent_label]] \u001b[38;5;241m=\u001b[39m \u001b[38;5;241m0\u001b[39m\n\u001b[1;32m    178\u001b[0m \u001b[38;5;28;01mif\u001b[39;00m \u001b[38;5;28mself\u001b[39m\u001b[38;5;241m.\u001b[39mmapper[\u001b[38;5;28mself\u001b[39m\u001b[38;5;241m.\u001b[39mcurrent_label] \u001b[38;5;241m+\u001b[39m \u001b[38;5;241m1\u001b[39m \u001b[38;5;129;01min\u001b[39;00m \u001b[38;5;28mself\u001b[39m\u001b[38;5;241m.\u001b[39marg_idxs:\n\u001b[1;32m    179\u001b[0m     mask[\u001b[38;5;28mself\u001b[39m\u001b[38;5;241m.\u001b[39mmapper[\u001b[38;5;28mself\u001b[39m\u001b[38;5;241m.\u001b[39mcurrent_label]\u001b[38;5;241m+\u001b[39m\u001b[38;5;241m1\u001b[39m] \u001b[38;5;241m=\u001b[39m \u001b[38;5;241m0\u001b[39m\n",
      "\u001b[0;31mAttributeError\u001b[0m: 'NextTokens' object has no attribute 'mapper'"
     ]
    }
   ],
   "source": [
    "nt = nt_fact.build()\n",
    "mask = nt.nextTokens()\n",
    "for i, tok_id in enumerate(desired):\n",
    "    print(f\"i={i}, tok_id={tok_id}\")\n",
    "    assert mask[tok_id] == 0\n",
    "    mask = nt.nextTokens(tok_id)"
   ]
  },
  {
   "cell_type": "code",
   "execution_count": 17,
   "metadata": {},
   "outputs": [
    {
     "data": {
      "text/plain": [
       "(tensor([258884]),)"
      ]
     },
     "execution_count": 17,
     "metadata": {},
     "output_type": "execute_result"
    }
   ],
   "source": [
    "torch.where(mask == 0)"
   ]
  },
  {
   "cell_type": "code",
   "execution_count": null,
   "metadata": {},
   "outputs": [],
   "source": []
  }
 ],
 "metadata": {
  "kernelspec": {
   "display_name": "Python 3",
   "language": "python",
   "name": "python3"
  },
  "language_info": {
   "codemirror_mode": {
    "name": "ipython",
    "version": 3
   },
   "file_extension": ".py",
   "mimetype": "text/x-python",
   "name": "python",
   "nbconvert_exporter": "python",
   "pygments_lexer": "ipython3",
   "version": "3.13.2"
  }
 },
 "nbformat": 4,
 "nbformat_minor": 2
}
