{
 "cells": [
  {
   "cell_type": "code",
   "execution_count": 1,
   "metadata": {},
   "outputs": [
    {
     "name": "stderr",
     "output_type": "stream",
     "text": [
      "/Users/sivaramakrishnans/Documents/sk/projects/nlp/RL/.venv/lib/python3.9/site-packages/torch/_subclasses/functional_tensor.py:275: UserWarning: Failed to initialize NumPy: No module named 'numpy' (Triggered internally at /Users/runner/work/pytorch/pytorch/pytorch/torch/csrc/utils/tensor_numpy.cpp:81.)\n",
      "  cpu = _conversion_method_template(device=torch.device(\"cpu\"))\n"
     ]
    }
   ],
   "source": [
    "import torch\n",
    "from unsupamr.next_token import NextTokens, NextTokensFactory\n",
    "from unsupamr.utils import VocabExt\n",
    "import json"
   ]
  },
  {
   "cell_type": "code",
   "execution_count": 2,
   "metadata": {},
   "outputs": [],
   "source": [
    "vocab_path = \"unsupamr/nextToken/data/vocab.json\"\n",
    "with open(vocab_path, 'r') as r:\n",
    "    vocab_ext = VocabExt.from_json(json.load(r))"
   ]
  },
  {
   "cell_type": "code",
   "execution_count": 3,
   "metadata": {},
   "outputs": [],
   "source": [
    "eos_id = vocab_ext.eos_id\n",
    "pad_id = vocab_ext.pad_id\n",
    "concept_a = 259\n",
    "concept_b = 260\n",
    "concept_c = 261\n",
    "tell_01 = 257985\n",
    "wash_01 = 258604\n",
    "stop = 258865\n",
    "arg0 = 250112\n",
    "arg1 = arg0 + 2\n",
    "arg2 = arg1 + 2\n",
    "\n",
    "r0 = 258884\n",
    "r1 = r0 + 1\n",
    "r2 = r0 + 2\n",
    "r3 = r0 + 3\n",
    "r4 = r0 + 4"
   ]
  },
  {
   "cell_type": "code",
   "execution_count": 4,
   "metadata": {},
   "outputs": [],
   "source": [
    "# Desired: <R0> tell-01 :ARG0 <R1>       you :ARG1 <R2> wash-01 :ARG2 <R3>         i <stop> <R2> :ARG0 <R3> :ARG1 <R4>       dog <stop> EOS\n",
    "# Desired: <R0> tell-01 :ARG0 <R1> concept_a :ARG1 <R2> wash-01 :ARG2 <R3> concept_b <stop> <R2> :ARG0 <R3> :ARG1 <R4> concept_c <stop> EOS\n",
    "desired = [r0, tell_01, arg0, r1, concept_a, arg1, r2, wash_01, arg2, r3, concept_b, stop,   r2, arg0, r3,  arg1, r4, concept_c, stop, eos_id]\n"
   ]
  },
  {
   "cell_type": "code",
   "execution_count": 5,
   "metadata": {},
   "outputs": [],
   "source": [
    "nt_fact = NextTokensFactory(vocab_ext)"
   ]
  },
  {
   "cell_type": "code",
   "execution_count": 6,
   "metadata": {},
   "outputs": [
    {
     "name": "stdout",
     "output_type": "stream",
     "text": [
      "i=0, tok_id=258884\n",
      "Condition8: Hit\n",
      "i=1, tok_id=257985\n",
      "Condition4: Hit\n",
      "i=2, tok_id=250112\n",
      "Condition10: Hit\n",
      "i=3, tok_id=258885\n",
      "Condition9: Hit\n",
      "i=4, tok_id=259\n",
      "Condition11: Hit\n",
      "i=5, tok_id=250114\n",
      "Condition10: Hit\n",
      "i=6, tok_id=258886\n",
      "Condition9: Hit\n",
      "i=7, tok_id=258604\n",
      "Condition5: Hit\n",
      "i=8, tok_id=250116\n",
      "Condition10: Hit\n",
      "i=9, tok_id=258887\n",
      "Condition9: Hit\n",
      "i=10, tok_id=260\n",
      "Condition11: Hit\n",
      "i=11, tok_id=258865\n",
      "Condition 1: Hit\n",
      "i=12, tok_id=258886\n",
      "Condition6: Hit\n",
      "i=13, tok_id=250112\n",
      "Condition10: Hit\n",
      "i=14, tok_id=258887\n",
      "Condition7: Hit\n",
      "i=15, tok_id=250114\n",
      "Condition10: Hit\n",
      "i=16, tok_id=258888\n",
      "Condition9: Hit\n",
      "i=17, tok_id=261\n",
      "Condition11: Hit\n",
      "i=18, tok_id=258865\n",
      "Condition 2: Hit\n",
      "i=19, tok_id=1\n",
      "Condition3: Hit\n"
     ]
    }
   ],
   "source": [
    "nt = nt_fact.build()\n",
    "mask = nt.nextTokens()\n",
    "for i, tok_id in enumerate(desired):\n",
    "    print(f\"i={i}, tok_id={tok_id}\")\n",
    "    assert mask[tok_id] == 0\n",
    "    mask = nt.nextTokens(tok_id)"
   ]
  },
  {
   "cell_type": "code",
   "execution_count": 17,
   "metadata": {},
   "outputs": [
    {
     "data": {
      "text/plain": [
       "(tensor([258884]),)"
      ]
     },
     "execution_count": 17,
     "metadata": {},
     "output_type": "execute_result"
    }
   ],
   "source": [
    "torch.where(mask == 0)"
   ]
  },
  {
   "cell_type": "code",
   "execution_count": null,
   "metadata": {},
   "outputs": [],
   "source": []
  }
 ],
 "metadata": {
  "kernelspec": {
   "display_name": ".venv",
   "language": "python",
   "name": "python3"
  },
  "language_info": {
   "codemirror_mode": {
    "name": "ipython",
    "version": 3
   },
   "file_extension": ".py",
   "mimetype": "text/x-python",
   "name": "python",
   "nbconvert_exporter": "python",
   "pygments_lexer": "ipython3",
   "version": "3.9.6"
  }
 },
 "nbformat": 4,
 "nbformat_minor": 2
}
