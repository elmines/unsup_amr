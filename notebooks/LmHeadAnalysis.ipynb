{
 "cells": [
  {
   "cell_type": "code",
   "execution_count": null,
   "metadata": {},
   "outputs": [],
   "source": [
    "from transformers import T5ForConditionalGeneration, T5TokenizerFast\n",
    "import torch\n",
    "import pandas as pd\n",
    "from plotly import express as px\n",
    "from plotly import graph_objects as go\n",
    "# Local\n",
    "import sys\n",
    "sys.path.append(\"../\") # This is a terrible practice and do not use it in real code\n",
    "from unsupamr.constants import DEFAULT_SEQ_MODEL\n",
    "from unsupamr.utils import VocabExt\n"
   ]
  },
  {
   "cell_type": "code",
   "execution_count": null,
   "metadata": {},
   "outputs": [],
   "source": [
    "pretrained_mod = T5ForConditionalGeneration.from_pretrained(DEFAULT_SEQ_MODEL)\n",
    "tokenizer = T5TokenizerFast.from_pretrained(DEFAULT_SEQ_MODEL)\n",
    "vocab_ext = VocabExt(pretrained_mod, tokenizer)"
   ]
  },
  {
   "cell_type": "code",
   "execution_count": null,
   "metadata": {},
   "outputs": [],
   "source": [
    "df_data = {\n",
    "    \"Norm\": [],\n",
    "    \"Vocab Type\": [],\n",
    "}\n",
    "with torch.no_grad():\n",
    "    old_lm_head = pretrained_mod.lm_head\n",
    "    norm_vals = torch.norm(old_lm_head.weight, p=2, dim=-1)\n",
    "    df_data[\"Norm\"].extend(norm_vals.detach().cpu().tolist())\n",
    "    df_data[\"Vocab Type\"].extend([\"Original\"] * norm_vals.shape[0])\n",
    "\n",
    "    expanded_head = torch.nn.Linear(old_lm_head.weight.shape[1], vocab_ext.new_vocab_size, bias=False, device=old_lm_head.weight.device)\n",
    "    new_norm_vals = torch.norm(expanded_head.weight[old_lm_head.weight.shape[0]: ], p=2, dim=-1)\n",
    "    df_data[\"Norm\"].extend(new_norm_vals.detach().cpu().tolist())\n",
    "    df_data[\"Vocab Type\"].extend([\"Added\"] * new_norm_vals.shape[0])\n",
    "df = pd.DataFrame(data=df_data)\n",
    "df = df.rename(columns={\"Norm\": \"L2 Norm\"})"
   ]
  },
  {
   "cell_type": "code",
   "execution_count": null,
   "metadata": {},
   "outputs": [],
   "source": [
    "fig = go.Figure()\n",
    "fig.add_trace(go.Histogram(\n",
    "   x=df[df['Vocab Type'] == 'Original']['L2 Norm'],\n",
    "   name='Original' \n",
    "))\n",
    "fig.add_trace(go.Histogram(\n",
    "   x=df[df['Vocab Type'] == 'Added']['L2 Norm'],\n",
    "   name='Added' \n",
    "))\n",
    "fig.update_layout(\n",
    "    template=\"simple_white\",\n",
    "    xaxis_title=\"L2 Norm\",\n",
    "    yaxis_title=\"Count\",\n",
    "    width=750,\n",
    "    height=500,\n",
    "    font=dict(size=24),\n",
    "    legend=dict(\n",
    "      title=\"Token Type\",\n",
    "      bgcolor=\"rgba(0,0,0,0)\",\n",
    "      x=0.70, y=1.0 \n",
    "    )\n",
    ")\n",
    "fig"
   ]
  },
  {
   "cell_type": "code",
   "execution_count": null,
   "metadata": {},
   "outputs": [],
   "source": []
  }
 ],
 "metadata": {
  "kernelspec": {
   "display_name": "Python 3",
   "language": "python",
   "name": "python3"
  },
  "language_info": {
   "codemirror_mode": {
    "name": "ipython",
    "version": 3
   },
   "file_extension": ".py",
   "mimetype": "text/x-python",
   "name": "python",
   "nbconvert_exporter": "python",
   "pygments_lexer": "ipython3",
   "version": "3.12.9"
  }
 },
 "nbformat": 4,
 "nbformat_minor": 2
}
